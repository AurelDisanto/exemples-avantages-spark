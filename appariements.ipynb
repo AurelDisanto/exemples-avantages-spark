{
 "cells": [
  {
   "cell_type": "code",
   "execution_count": null,
   "id": "be6825d6-4f49-4df2-934a-ecb6bf5dc033",
   "metadata": {},
   "outputs": [],
   "source": [
    "import os\n",
    "from pyspark.sql import SparkSession\n",
    "from pyspark.sql.functions import rand"
   ]
  },
  {
   "cell_type": "code",
   "execution_count": null,
   "id": "38a11e0b-29f8-4832-8349-77700a28b2b3",
   "metadata": {},
   "outputs": [],
   "source": [
    "spark = (SparkSession \n",
    "         .builder\n",
    "         .getOrCreate()\n",
    "        )\n",
    "\n",
    "sc = spark.sparkContext"
   ]
  },
  {
   "cell_type": "code",
   "execution_count": null,
   "id": "6634e2f7-ec1e-4e13-bfd9-a2310b34c21d",
   "metadata": {},
   "outputs": [],
   "source": [
    "parquet_df1 = spark.read.parquet(\"s3a://auredisanto/data-exemples-avantages-spark/fichier1.parquet\")\n",
    "parquet_df1.createOrReplaceTempView(\"fichier1\")\n",
    "\n",
    "parquet_df2 = spark.read.parquet(\"s3a://auredisanto/data-exemples-avantages-spark/fichier2.parquet\")\n",
    "parquet_df2.createOrReplaceTempView(\"fichier2\")\n",
    "\n",
    "parquet_df3 = spark.read.parquet(\"s3a://auredisanto/data-exemples-avantages-spark/fichier3.parquet\")\n",
    "parquet_df3.createOrReplaceTempView(\"fichier3\")"
   ]
  },
  {
   "cell_type": "code",
   "execution_count": null,
   "id": "6d95f921-aa28-4cbb-8aa1-f298a56ff8a0",
   "metadata": {},
   "outputs": [],
   "source": [
    "spark_df_join1 = spark.sql(\"SELECT a.*, b.col1_fichier2, b.col2_fichier2 FROM fichier1 AS a INNER JOIN fichier2 AS b ON a.identifiant = b.identifiant\") \n",
    "spark_df_join1.write.mode('append').parquet(\"s3a://auredisanto/data-exemples-avantages-spark/fichier_join1.parquet\")"
   ]
  },
  {
   "cell_type": "code",
   "execution_count": null,
   "id": "d140c461-1b2e-4aa4-b734-8520bb144dfb",
   "metadata": {},
   "outputs": [],
   "source": [
    "spark.stop()"
   ]
  }
 ],
 "metadata": {
  "kernelspec": {
   "display_name": "Python 3 (ipykernel)",
   "language": "python",
   "name": "python3"
  },
  "language_info": {
   "codemirror_mode": {
    "name": "ipython",
    "version": 3
   },
   "file_extension": ".py",
   "mimetype": "text/x-python",
   "name": "python",
   "nbconvert_exporter": "python",
   "pygments_lexer": "ipython3",
   "version": "3.10.13"
  }
 },
 "nbformat": 4,
 "nbformat_minor": 5
}
