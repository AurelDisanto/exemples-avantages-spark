{
 "cells": [
  {
   "cell_type": "code",
   "execution_count": null,
   "id": "4c6004f0-56b0-4b7f-92c3-347949075ebd",
   "metadata": {},
   "outputs": [],
   "source": [
    "!pip install pandas"
   ]
  },
  {
   "cell_type": "code",
   "execution_count": null,
   "id": "dbbf3caa-f57b-46fc-af04-57f50b790953",
   "metadata": {},
   "outputs": [],
   "source": [
    "import pandas\n",
    "import numpy\n",
    "import s3fs\n",
    "import os\n",
    "from pyspark.sql import SparkSession\n",
    "from pyspark.sql.types import StructType\n",
    "from pyspark.sql.functions import rand"
   ]
  },
  {
   "cell_type": "code",
   "execution_count": null,
   "id": "1c55bf7f-c302-4e65-a465-cbaa5e2a8a64",
   "metadata": {},
   "outputs": [],
   "source": [
    "# Génération de données simulées\n",
    "data = {'identifiant': [str(i) for i in range(1, 500001)]}\n",
    "\n",
    "df = pandas.DataFrame(data)"
   ]
  },
  {
   "cell_type": "code",
   "execution_count": null,
   "id": "0f5510c5-5a43-490d-b0ce-ab33a5c75187",
   "metadata": {},
   "outputs": [],
   "source": [
    "parquet_file = 'identifiants.parquet'  # Chemin local où le fichier Parquet sera temporairement stocké\n",
    "df.to_parquet(parquet_file, index=False)"
   ]
  },
  {
   "cell_type": "code",
   "execution_count": null,
   "id": "069ebf2d-4823-4006-832f-3a1ec676c0f0",
   "metadata": {},
   "outputs": [],
   "source": [
    "!mc cp identifiants.parquet s3/auredisanto/data-exemples-avantages-spark/identifiants.parquet"
   ]
  },
  {
   "cell_type": "code",
   "execution_count": null,
   "id": "f4b18dc1-1aaf-4702-88de-c0dc9a4594e2",
   "metadata": {},
   "outputs": [],
   "source": [
    "# Suppression du fichier local temporaire\n",
    "os.remove(parquet_file)"
   ]
  },
  {
   "cell_type": "code",
   "execution_count": null,
   "id": "b30d2cc6-e656-41f1-8da9-01b4b9800fbb",
   "metadata": {},
   "outputs": [],
   "source": [
    "spark = (SparkSession \n",
    "         .builder\n",
    "         .getOrCreate()\n",
    "        )\n",
    "\n",
    "sc = spark.sparkContext"
   ]
  },
  {
   "cell_type": "code",
   "execution_count": null,
   "id": "8c109c92-4b5f-4ece-b5d2-2494d21126d8",
   "metadata": {},
   "outputs": [],
   "source": [
    "parquet_df = spark.read.parquet(\"s3a://auredisanto/data-exemples-avantages-spark/identifiants.parquet\")\n",
    "parquet_df.createOrReplaceTempView(\"identifiants\")"
   ]
  },
  {
   "cell_type": "code",
   "execution_count": null,
   "id": "84987d30-9cc9-4c9d-8b4c-0435f8299350",
   "metadata": {},
   "outputs": [],
   "source": [
    "spark_df1 = spark.sql(\"SELECT *, rand() as col1_fichier1, rand() as col2_fichier1 FROM identifiants\") \n",
    "spark_df1.write.mode('append').parquet(\"s3a://auredisanto/data-exemples-avantages-spark/fichier1.parquet\")"
   ]
  },
  {
   "cell_type": "code",
   "execution_count": null,
   "id": "0bb0923b-7581-44fd-beb5-bcdda42b2851",
   "metadata": {},
   "outputs": [],
   "source": [
    "spark_df2 = spark.sql(\"SELECT *, rand() as col1_fichier2, rand() as col2_fichier2 FROM identifiants\") \n",
    "spark_df2.write.mode('append').parquet(\"s3a://auredisanto/data-exemples-avantages-spark/fichier2.parquet\")"
   ]
  },
  {
   "cell_type": "code",
   "execution_count": null,
   "id": "e410534c-35b2-47f7-b299-45fdb17a8421",
   "metadata": {},
   "outputs": [],
   "source": [
    "spark_df3 = spark.sql(\"SELECT *, rand() as col1_fichier3, rand() as col2_fichier3 FROM identifiants\") \n",
    "spark_df3.write.mode('append').parquet(\"s3a://auredisanto/data-exemples-avantages-spark/fichier3.parquet\")"
   ]
  },
  {
   "cell_type": "code",
   "execution_count": 5,
   "id": "2cc9d892-cfc2-4a84-8483-ec719e80c8a0",
   "metadata": {},
   "outputs": [],
   "source": [
    "spark.stop()"
   ]
  }
 ],
 "metadata": {
  "kernelspec": {
   "display_name": "Python 3 (ipykernel)",
   "language": "python",
   "name": "python3"
  },
  "language_info": {
   "codemirror_mode": {
    "name": "ipython",
    "version": 3
   },
   "file_extension": ".py",
   "mimetype": "text/x-python",
   "name": "python",
   "nbconvert_exporter": "python",
   "pygments_lexer": "ipython3",
   "version": "3.10.13"
  }
 },
 "nbformat": 4,
 "nbformat_minor": 5
}
