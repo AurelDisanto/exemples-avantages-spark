{
 "cells": [
  {
   "cell_type": "code",
   "execution_count": null,
   "id": "a5877a5f-6685-4239-80d0-1462b305c30a",
   "metadata": {},
   "outputs": [],
   "source": [
    "import os\n",
    "from pyspark.sql import SparkSession\n",
    "from pyspark.sql.types import StructType\n",
    "from pyspark.sql.functions import rand"
   ]
  },
  {
   "cell_type": "code",
   "execution_count": null,
   "id": "3b8fd3c7-be71-46ca-9972-212709f4df1f",
   "metadata": {},
   "outputs": [],
   "source": [
    "spark = (SparkSession \n",
    "         .builder\n",
    "         .getOrCreate()\n",
    "        )\n",
    "\n",
    "sc = spark.sparkContext"
   ]
  },
  {
   "cell_type": "code",
   "execution_count": null,
   "id": "8719d76a-8e2f-45b3-84b6-6ae603c5b6f7",
   "metadata": {},
   "outputs": [],
   "source": [
    "parquet_df1 = spark.read.parquet(\"s3a://auredisanto/data-exemples-avantages-spark/fichier1.parquet\")\n",
    "parquet_df1.createOrReplaceTempView(\"fichier1\")"
   ]
  },
  {
   "cell_type": "code",
   "execution_count": null,
   "id": "2e2ce4eb-95e3-4a06-ab92-d015a1700b7c",
   "metadata": {},
   "outputs": [],
   "source": [
    "spark_df1_modif = spark.sql(\"SELECT *, rand() as col3_fichier1 FROM fichier1\") \n",
    "spark_df1_modif.write.mode('append').parquet(\"s3a://auredisanto/data-exemples-avantages-spark/fichier1_modif.parquet\")"
   ]
  },
  {
   "cell_type": "code",
   "execution_count": null,
   "id": "3f025293-4801-400b-9519-e0601f19420e",
   "metadata": {},
   "outputs": [],
   "source": [
    "spark.stop()"
   ]
  }
 ],
 "metadata": {
  "kernelspec": {
   "display_name": "Python 3 (ipykernel)",
   "language": "python",
   "name": "python3"
  },
  "language_info": {
   "codemirror_mode": {
    "name": "ipython",
    "version": 3
   },
   "file_extension": ".py",
   "mimetype": "text/x-python",
   "name": "python",
   "nbconvert_exporter": "python",
   "pygments_lexer": "ipython3",
   "version": "3.10.13"
  }
 },
 "nbformat": 4,
 "nbformat_minor": 5
}
